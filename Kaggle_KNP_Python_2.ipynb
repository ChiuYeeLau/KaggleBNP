{
 "cells": [
  {
   "cell_type": "code",
   "execution_count": 1,
   "metadata": {
    "collapsed": false
   },
   "outputs": [],
   "source": [
    "\"\"\"\n",
    "Created on Thu Feb  4 06:20:12 2016\n",
    "\n",
    "@author: monkey\n",
    "\"\"\"\n",
    "# % pylab inline \n",
    "# % matplotlib inline\n",
    "\n",
    "import pandas as pd\n",
    "import xgboost as xgb\n",
    "import csv\n",
    "import numpy as np\n",
    "import pdb\n",
    "from copy import deepcopy\n",
    "import random\n",
    "# import matplotlib.pyplot as plt\n",
    "from sklearn.metrics import log_loss\n",
    "\n",
    "from sklearn.cross_validation import cross_val_score\n",
    "from xgboost import XGBClassifier\n",
    "# from bayes_opt import BayesianOptimization\n",
    "\n",
    "from sklearn import cross_validation\n",
    "from sklearn import ensemble\n",
    "from sklearn import metrics\n",
    "from sklearn.cross_validation import StratifiedKFold"
   ]
  },
  {
   "cell_type": "code",
   "execution_count": 2,
   "metadata": {
    "collapsed": false
   },
   "outputs": [
    {
     "name": "stdout",
     "output_type": "stream",
     "text": [
      "Load data...\n"
     ]
    }
   ],
   "source": [
    "print('Load data...')\n",
    "train = pd.read_csv(\"train.csv\")\n",
    "target = train['target']\n",
    "\n",
    "train_with_target = train.drop(['ID'], axis = 1)\n",
    "train = train.drop(['ID', 'target'], axis = 1)\n",
    "test = pd.read_csv(\"test.csv\")\n",
    "ids = test['ID'].values\n",
    "test = test.drop(['ID'], axis = 1)\n",
    "\n",
    "# add number of nans\n",
    "train['number_NAN'] = train.isnull().sum(axis = 1)\n",
    "test['number_NAN'] = test.isnull().sum(axis = 1)\n",
    "train_with_target['number_NAN'] = train.isnull().sum(axis = 1)\n",
    "\n",
    "train_len = train.shape[0]\n",
    "test_len = test.shape[0]\n",
    "\n",
    "for elt in train.columns:\n",
    "    train[elt + '_na'] = pd.isnull(train[elt]).astype(int)\n",
    "    test[elt + '_na'] = pd.isnull(test[elt]).astype(int)\n",
    "\n",
    "train = train.fillna(-1)\n",
    "test = test.fillna(-1)\n",
    "train_with_target = train_with_target.fillna(-1)"
   ]
  },
  {
   "cell_type": "code",
   "execution_count": 3,
   "metadata": {
    "collapsed": false
   },
   "outputs": [
    {
     "data": {
      "text/plain": [
       "264"
      ]
     },
     "execution_count": 3,
     "metadata": {},
     "output_type": "execute_result"
    }
   ],
   "source": [
    "sum(train.columns == test.columns)"
   ]
  },
  {
   "cell_type": "code",
   "execution_count": 4,
   "metadata": {
    "collapsed": false
   },
   "outputs": [
    {
     "data": {
      "text/html": [
       "<div style=\"max-height:1000px;max-width:1500px;overflow:auto;\">\n",
       "<table border=\"1\" class=\"dataframe\">\n",
       "  <thead>\n",
       "    <tr style=\"text-align: right;\">\n",
       "      <th></th>\n",
       "      <th>v1</th>\n",
       "      <th>v2</th>\n",
       "      <th>v3</th>\n",
       "      <th>v4</th>\n",
       "      <th>v5</th>\n",
       "      <th>v6</th>\n",
       "      <th>v7</th>\n",
       "      <th>v8</th>\n",
       "      <th>v9</th>\n",
       "      <th>v10</th>\n",
       "      <th>...</th>\n",
       "      <th>v123_na</th>\n",
       "      <th>v124_na</th>\n",
       "      <th>v125_na</th>\n",
       "      <th>v126_na</th>\n",
       "      <th>v127_na</th>\n",
       "      <th>v128_na</th>\n",
       "      <th>v129_na</th>\n",
       "      <th>v130_na</th>\n",
       "      <th>v131_na</th>\n",
       "      <th>number_NAN_na</th>\n",
       "    </tr>\n",
       "  </thead>\n",
       "  <tbody>\n",
       "    <tr>\n",
       "      <th>0</th>\n",
       "      <td> 1.335739</td>\n",
       "      <td> 8.727474</td>\n",
       "      <td> C</td>\n",
       "      <td> 3.921026</td>\n",
       "      <td>  7.915266</td>\n",
       "      <td> 2.599278</td>\n",
       "      <td> 3.176895</td>\n",
       "      <td> 0.012941</td>\n",
       "      <td>  9.999999</td>\n",
       "      <td> 0.503281</td>\n",
       "      <td>...</td>\n",
       "      <td> 0</td>\n",
       "      <td> 0</td>\n",
       "      <td> 0</td>\n",
       "      <td> 0</td>\n",
       "      <td> 0</td>\n",
       "      <td> 0</td>\n",
       "      <td> 0</td>\n",
       "      <td> 0</td>\n",
       "      <td> 0</td>\n",
       "      <td> 0</td>\n",
       "    </tr>\n",
       "    <tr>\n",
       "      <th>1</th>\n",
       "      <td>-1.000000</td>\n",
       "      <td>-1.000000</td>\n",
       "      <td> C</td>\n",
       "      <td>-1.000000</td>\n",
       "      <td>  9.191265</td>\n",
       "      <td>-1.000000</td>\n",
       "      <td>-1.000000</td>\n",
       "      <td> 2.301630</td>\n",
       "      <td> -1.000000</td>\n",
       "      <td> 1.312910</td>\n",
       "      <td>...</td>\n",
       "      <td> 1</td>\n",
       "      <td> 0</td>\n",
       "      <td> 0</td>\n",
       "      <td> 1</td>\n",
       "      <td> 1</td>\n",
       "      <td> 0</td>\n",
       "      <td> 0</td>\n",
       "      <td> 1</td>\n",
       "      <td> 1</td>\n",
       "      <td> 0</td>\n",
       "    </tr>\n",
       "    <tr>\n",
       "      <th>2</th>\n",
       "      <td> 0.943877</td>\n",
       "      <td> 5.310079</td>\n",
       "      <td> C</td>\n",
       "      <td> 4.410969</td>\n",
       "      <td>  5.326159</td>\n",
       "      <td> 3.979592</td>\n",
       "      <td> 3.928571</td>\n",
       "      <td> 0.019645</td>\n",
       "      <td> 12.666667</td>\n",
       "      <td> 0.765864</td>\n",
       "      <td>...</td>\n",
       "      <td> 0</td>\n",
       "      <td> 0</td>\n",
       "      <td> 0</td>\n",
       "      <td> 0</td>\n",
       "      <td> 0</td>\n",
       "      <td> 0</td>\n",
       "      <td> 0</td>\n",
       "      <td> 0</td>\n",
       "      <td> 0</td>\n",
       "      <td> 0</td>\n",
       "    </tr>\n",
       "    <tr>\n",
       "      <th>3</th>\n",
       "      <td> 0.797415</td>\n",
       "      <td> 8.304757</td>\n",
       "      <td> C</td>\n",
       "      <td> 4.225930</td>\n",
       "      <td> 11.627438</td>\n",
       "      <td> 2.097700</td>\n",
       "      <td> 1.987549</td>\n",
       "      <td> 0.171947</td>\n",
       "      <td>  8.965516</td>\n",
       "      <td> 6.542669</td>\n",
       "      <td>...</td>\n",
       "      <td> 0</td>\n",
       "      <td> 0</td>\n",
       "      <td> 0</td>\n",
       "      <td> 0</td>\n",
       "      <td> 0</td>\n",
       "      <td> 0</td>\n",
       "      <td> 0</td>\n",
       "      <td> 0</td>\n",
       "      <td> 0</td>\n",
       "      <td> 0</td>\n",
       "    </tr>\n",
       "    <tr>\n",
       "      <th>4</th>\n",
       "      <td>-1.000000</td>\n",
       "      <td>-1.000000</td>\n",
       "      <td> C</td>\n",
       "      <td>-1.000000</td>\n",
       "      <td> -1.000000</td>\n",
       "      <td>-1.000000</td>\n",
       "      <td>-1.000000</td>\n",
       "      <td>-1.000000</td>\n",
       "      <td> -1.000000</td>\n",
       "      <td> 1.050328</td>\n",
       "      <td>...</td>\n",
       "      <td> 1</td>\n",
       "      <td> 1</td>\n",
       "      <td> 0</td>\n",
       "      <td> 1</td>\n",
       "      <td> 1</td>\n",
       "      <td> 1</td>\n",
       "      <td> 0</td>\n",
       "      <td> 1</td>\n",
       "      <td> 1</td>\n",
       "      <td> 0</td>\n",
       "    </tr>\n",
       "  </tbody>\n",
       "</table>\n",
       "<p>5 rows × 264 columns</p>\n",
       "</div>"
      ],
      "text/plain": [
       "         v1        v2 v3        v4         v5        v6        v7        v8  \\\n",
       "0  1.335739  8.727474  C  3.921026   7.915266  2.599278  3.176895  0.012941   \n",
       "1 -1.000000 -1.000000  C -1.000000   9.191265 -1.000000 -1.000000  2.301630   \n",
       "2  0.943877  5.310079  C  4.410969   5.326159  3.979592  3.928571  0.019645   \n",
       "3  0.797415  8.304757  C  4.225930  11.627438  2.097700  1.987549  0.171947   \n",
       "4 -1.000000 -1.000000  C -1.000000  -1.000000 -1.000000 -1.000000 -1.000000   \n",
       "\n",
       "          v9       v10    ...     v123_na  v124_na  v125_na  v126_na  v127_na  \\\n",
       "0   9.999999  0.503281    ...           0        0        0        0        0   \n",
       "1  -1.000000  1.312910    ...           1        0        0        1        1   \n",
       "2  12.666667  0.765864    ...           0        0        0        0        0   \n",
       "3   8.965516  6.542669    ...           0        0        0        0        0   \n",
       "4  -1.000000  1.050328    ...           1        1        0        1        1   \n",
       "\n",
       "   v128_na  v129_na  v130_na  v131_na  number_NAN_na  \n",
       "0        0        0        0        0              0  \n",
       "1        0        0        1        1              0  \n",
       "2        0        0        0        0              0  \n",
       "3        0        0        0        0              0  \n",
       "4        1        0        1        1              0  \n",
       "\n",
       "[5 rows x 264 columns]"
      ]
     },
     "execution_count": 4,
     "metadata": {},
     "output_type": "execute_result"
    }
   ],
   "source": [
    "train.head()"
   ]
  },
  {
   "cell_type": "markdown",
   "metadata": {},
   "source": [
    "# filter all object features"
   ]
  },
  {
   "cell_type": "code",
   "execution_count": 5,
   "metadata": {
    "collapsed": true
   },
   "outputs": [],
   "source": [
    "object_features = []\n",
    "all_features = []\n",
    "for feat in train.columns:\n",
    "    if feat != 'number_NAN':\n",
    "        all_features.append(feat)\n",
    "    if train[feat].dtype == 'object':\n",
    "        object_features.append(feat)"
   ]
  },
  {
   "cell_type": "code",
   "execution_count": 6,
   "metadata": {
    "collapsed": false
   },
   "outputs": [
    {
     "name": "stdout",
     "output_type": "stream",
     "text": [
      "['v3', 'v22', 'v24', 'v30', 'v31', 'v47', 'v52', 'v56', 'v66', 'v71', 'v74', 'v75', 'v79', 'v91', 'v107', 'v110', 'v112', 'v113', 'v125', 'v38', 'v62', 'v72', 'v129']\n"
     ]
    }
   ],
   "source": [
    "object_features.extend(['v38', 'v62', 'v72', 'v129'])\n",
    "print object_features"
   ]
  },
  {
   "cell_type": "code",
   "execution_count": 7,
   "metadata": {
    "collapsed": false
   },
   "outputs": [],
   "source": [
    "all_features = all_features[:131]"
   ]
  },
  {
   "cell_type": "code",
   "execution_count": 8,
   "metadata": {
    "collapsed": false
   },
   "outputs": [
    {
     "data": {
      "text/plain": [
       "131"
      ]
     },
     "execution_count": 8,
     "metadata": {},
     "output_type": "execute_result"
    }
   ],
   "source": [
    "len(all_features)"
   ]
  },
  {
   "cell_type": "code",
   "execution_count": 9,
   "metadata": {
    "collapsed": false
   },
   "outputs": [
    {
     "data": {
      "text/plain": [
       "0"
      ]
     },
     "execution_count": 9,
     "metadata": {},
     "output_type": "execute_result"
    }
   ],
   "source": [
    "sum(train.isnull().sum())"
   ]
  },
  {
   "cell_type": "code",
   "execution_count": 10,
   "metadata": {
    "collapsed": false
   },
   "outputs": [
    {
     "data": {
      "text/plain": [
       "0"
      ]
     },
     "execution_count": 10,
     "metadata": {},
     "output_type": "execute_result"
    }
   ],
   "source": [
    "sum(test.isnull().sum())"
   ]
  },
  {
   "cell_type": "markdown",
   "metadata": {},
   "source": [
    "# add frequencies for object features"
   ]
  },
  {
   "cell_type": "code",
   "execution_count": 11,
   "metadata": {
    "collapsed": false
   },
   "outputs": [
    {
     "data": {
      "text/plain": [
       "Index([u'v1', u'v2', u'v3', u'v4', u'v5', u'v6', u'v7', u'v8', u'v9', u'v10', u'v11', u'v12', u'v13', u'v14', u'v15', u'v16', u'v17', u'v18', u'v19', u'v20', u'v21', u'v22', u'v23', u'v24', u'v25', u'v26', u'v27', u'v28', u'v29', u'v30', u'v31', u'v32', u'v33', u'v34', u'v35', u'v36', u'v37', u'v38', u'v39', u'v40', u'v41', u'v42', u'v43', u'v44', u'v45', u'v46', u'v47', u'v48', u'v49', u'v50', u'v51', u'v52', u'v53', u'v54', u'v55', u'v56', u'v57', u'v58', u'v59', u'v60', u'v61', u'v62', u'v63', u'v64', u'v65', u'v66', u'v67', u'v68', u'v69', u'v70', u'v71', u'v72', u'v73', u'v74', u'v75', u'v76', u'v77', u'v78', u'v79', u'v80', u'v81', u'v82', u'v83', u'v84', u'v85', u'v86', u'v87', u'v88', u'v89', u'v90', u'v91', u'v92', u'v93', u'v94', u'v95', u'v96', u'v97', u'v98', u'v99', u'v100', ...], dtype='object')"
      ]
     },
     "execution_count": 11,
     "metadata": {},
     "output_type": "execute_result"
    }
   ],
   "source": [
    "train.columns"
   ]
  },
  {
   "cell_type": "code",
   "execution_count": 12,
   "metadata": {
    "collapsed": true
   },
   "outputs": [],
   "source": [
    "max_categories = 150"
   ]
  },
  {
   "cell_type": "code",
   "execution_count": 13,
   "metadata": {
    "collapsed": true
   },
   "outputs": [],
   "source": [
    "# prepare data\n",
    "train_dummies = pd.DataFrame()\n",
    "test_dummies = pd.DataFrame()"
   ]
  },
  {
   "cell_type": "code",
   "execution_count": 14,
   "metadata": {
    "collapsed": false
   },
   "outputs": [],
   "source": [
    "prob = train_with_target.groupby(['target']).size()[1]/float(sum(train_with_target.groupby(['target']).size()))"
   ]
  },
  {
   "cell_type": "code",
   "execution_count": 15,
   "metadata": {
    "collapsed": false
   },
   "outputs": [
    {
     "data": {
      "text/plain": [
       "0.76119872989214576"
      ]
     },
     "execution_count": 15,
     "metadata": {},
     "output_type": "execute_result"
    }
   ],
   "source": [
    "prob"
   ]
  },
  {
   "cell_type": "markdown",
   "metadata": {
    "collapsed": true
   },
   "source": [
    "# try TSNE!!!!!!!!!!!!!!!!!!"
   ]
  },
  {
   "cell_type": "code",
   "execution_count": 16,
   "metadata": {
    "collapsed": false
   },
   "outputs": [
    {
     "data": {
      "text/html": [
       "<div style=\"max-height:1000px;max-width:1500px;overflow:auto;\">\n",
       "<table border=\"1\" class=\"dataframe\">\n",
       "  <thead>\n",
       "    <tr style=\"text-align: right;\">\n",
       "      <th></th>\n",
       "      <th>v1</th>\n",
       "      <th>v2</th>\n",
       "      <th>v3</th>\n",
       "      <th>v4</th>\n",
       "      <th>v5</th>\n",
       "      <th>v6</th>\n",
       "      <th>v7</th>\n",
       "      <th>v8</th>\n",
       "      <th>v9</th>\n",
       "      <th>v10</th>\n",
       "      <th>...</th>\n",
       "      <th>v123_na</th>\n",
       "      <th>v124_na</th>\n",
       "      <th>v125_na</th>\n",
       "      <th>v126_na</th>\n",
       "      <th>v127_na</th>\n",
       "      <th>v128_na</th>\n",
       "      <th>v129_na</th>\n",
       "      <th>v130_na</th>\n",
       "      <th>v131_na</th>\n",
       "      <th>number_NAN_na</th>\n",
       "    </tr>\n",
       "  </thead>\n",
       "  <tbody>\n",
       "    <tr>\n",
       "      <th>0</th>\n",
       "      <td> 1.335739</td>\n",
       "      <td> 8.727474</td>\n",
       "      <td> C</td>\n",
       "      <td> 3.921026</td>\n",
       "      <td>  7.915266</td>\n",
       "      <td> 2.599278</td>\n",
       "      <td> 3.176895</td>\n",
       "      <td> 0.012941</td>\n",
       "      <td>  9.999999</td>\n",
       "      <td> 0.503281</td>\n",
       "      <td>...</td>\n",
       "      <td> 0</td>\n",
       "      <td> 0</td>\n",
       "      <td> 0</td>\n",
       "      <td> 0</td>\n",
       "      <td> 0</td>\n",
       "      <td> 0</td>\n",
       "      <td> 0</td>\n",
       "      <td> 0</td>\n",
       "      <td> 0</td>\n",
       "      <td> 0</td>\n",
       "    </tr>\n",
       "    <tr>\n",
       "      <th>1</th>\n",
       "      <td>-1.000000</td>\n",
       "      <td>-1.000000</td>\n",
       "      <td> C</td>\n",
       "      <td>-1.000000</td>\n",
       "      <td>  9.191265</td>\n",
       "      <td>-1.000000</td>\n",
       "      <td>-1.000000</td>\n",
       "      <td> 2.301630</td>\n",
       "      <td> -1.000000</td>\n",
       "      <td> 1.312910</td>\n",
       "      <td>...</td>\n",
       "      <td> 1</td>\n",
       "      <td> 0</td>\n",
       "      <td> 0</td>\n",
       "      <td> 1</td>\n",
       "      <td> 1</td>\n",
       "      <td> 0</td>\n",
       "      <td> 0</td>\n",
       "      <td> 1</td>\n",
       "      <td> 1</td>\n",
       "      <td> 0</td>\n",
       "    </tr>\n",
       "    <tr>\n",
       "      <th>2</th>\n",
       "      <td> 0.943877</td>\n",
       "      <td> 5.310079</td>\n",
       "      <td> C</td>\n",
       "      <td> 4.410969</td>\n",
       "      <td>  5.326159</td>\n",
       "      <td> 3.979592</td>\n",
       "      <td> 3.928571</td>\n",
       "      <td> 0.019645</td>\n",
       "      <td> 12.666667</td>\n",
       "      <td> 0.765864</td>\n",
       "      <td>...</td>\n",
       "      <td> 0</td>\n",
       "      <td> 0</td>\n",
       "      <td> 0</td>\n",
       "      <td> 0</td>\n",
       "      <td> 0</td>\n",
       "      <td> 0</td>\n",
       "      <td> 0</td>\n",
       "      <td> 0</td>\n",
       "      <td> 0</td>\n",
       "      <td> 0</td>\n",
       "    </tr>\n",
       "    <tr>\n",
       "      <th>3</th>\n",
       "      <td> 0.797415</td>\n",
       "      <td> 8.304757</td>\n",
       "      <td> C</td>\n",
       "      <td> 4.225930</td>\n",
       "      <td> 11.627438</td>\n",
       "      <td> 2.097700</td>\n",
       "      <td> 1.987549</td>\n",
       "      <td> 0.171947</td>\n",
       "      <td>  8.965516</td>\n",
       "      <td> 6.542669</td>\n",
       "      <td>...</td>\n",
       "      <td> 0</td>\n",
       "      <td> 0</td>\n",
       "      <td> 0</td>\n",
       "      <td> 0</td>\n",
       "      <td> 0</td>\n",
       "      <td> 0</td>\n",
       "      <td> 0</td>\n",
       "      <td> 0</td>\n",
       "      <td> 0</td>\n",
       "      <td> 0</td>\n",
       "    </tr>\n",
       "    <tr>\n",
       "      <th>4</th>\n",
       "      <td>-1.000000</td>\n",
       "      <td>-1.000000</td>\n",
       "      <td> C</td>\n",
       "      <td>-1.000000</td>\n",
       "      <td> -1.000000</td>\n",
       "      <td>-1.000000</td>\n",
       "      <td>-1.000000</td>\n",
       "      <td>-1.000000</td>\n",
       "      <td> -1.000000</td>\n",
       "      <td> 1.050328</td>\n",
       "      <td>...</td>\n",
       "      <td> 1</td>\n",
       "      <td> 1</td>\n",
       "      <td> 0</td>\n",
       "      <td> 1</td>\n",
       "      <td> 1</td>\n",
       "      <td> 1</td>\n",
       "      <td> 0</td>\n",
       "      <td> 1</td>\n",
       "      <td> 1</td>\n",
       "      <td> 0</td>\n",
       "    </tr>\n",
       "  </tbody>\n",
       "</table>\n",
       "<p>5 rows × 264 columns</p>\n",
       "</div>"
      ],
      "text/plain": [
       "         v1        v2 v3        v4         v5        v6        v7        v8  \\\n",
       "0  1.335739  8.727474  C  3.921026   7.915266  2.599278  3.176895  0.012941   \n",
       "1 -1.000000 -1.000000  C -1.000000   9.191265 -1.000000 -1.000000  2.301630   \n",
       "2  0.943877  5.310079  C  4.410969   5.326159  3.979592  3.928571  0.019645   \n",
       "3  0.797415  8.304757  C  4.225930  11.627438  2.097700  1.987549  0.171947   \n",
       "4 -1.000000 -1.000000  C -1.000000  -1.000000 -1.000000 -1.000000 -1.000000   \n",
       "\n",
       "          v9       v10    ...     v123_na  v124_na  v125_na  v126_na  v127_na  \\\n",
       "0   9.999999  0.503281    ...           0        0        0        0        0   \n",
       "1  -1.000000  1.312910    ...           1        0        0        1        1   \n",
       "2  12.666667  0.765864    ...           0        0        0        0        0   \n",
       "3   8.965516  6.542669    ...           0        0        0        0        0   \n",
       "4  -1.000000  1.050328    ...           1        1        0        1        1   \n",
       "\n",
       "   v128_na  v129_na  v130_na  v131_na  number_NAN_na  \n",
       "0        0        0        0        0              0  \n",
       "1        0        0        1        1              0  \n",
       "2        0        0        0        0              0  \n",
       "3        0        0        0        0              0  \n",
       "4        1        0        1        1              0  \n",
       "\n",
       "[5 rows x 264 columns]"
      ]
     },
     "execution_count": 16,
     "metadata": {},
     "output_type": "execute_result"
    }
   ],
   "source": [
    "train.head()"
   ]
  },
  {
   "cell_type": "code",
   "execution_count": 17,
   "metadata": {
    "collapsed": false
   },
   "outputs": [
    {
     "data": {
      "text/html": [
       "<div style=\"max-height:1000px;max-width:1500px;overflow:auto;\">\n",
       "<table border=\"1\" class=\"dataframe\">\n",
       "  <thead>\n",
       "    <tr style=\"text-align: right;\">\n",
       "      <th></th>\n",
       "      <th>v1</th>\n",
       "      <th>v2</th>\n",
       "      <th>v3</th>\n",
       "      <th>v4</th>\n",
       "      <th>v5</th>\n",
       "      <th>v6</th>\n",
       "      <th>v7</th>\n",
       "      <th>v8</th>\n",
       "      <th>v9</th>\n",
       "      <th>v10</th>\n",
       "      <th>...</th>\n",
       "      <th>v123_na</th>\n",
       "      <th>v124_na</th>\n",
       "      <th>v125_na</th>\n",
       "      <th>v126_na</th>\n",
       "      <th>v127_na</th>\n",
       "      <th>v128_na</th>\n",
       "      <th>v129_na</th>\n",
       "      <th>v130_na</th>\n",
       "      <th>v131_na</th>\n",
       "      <th>number_NAN_na</th>\n",
       "    </tr>\n",
       "  </thead>\n",
       "  <tbody>\n",
       "    <tr>\n",
       "      <th>0</th>\n",
       "      <td> 1.375465</td>\n",
       "      <td> 11.361141</td>\n",
       "      <td> C</td>\n",
       "      <td> 4.200778</td>\n",
       "      <td> 6.57700</td>\n",
       "      <td> 2.081784</td>\n",
       "      <td> 1.784386</td>\n",
       "      <td> 0.011094</td>\n",
       "      <td> 9.523810</td>\n",
       "      <td> 1.312911</td>\n",
       "      <td>...</td>\n",
       "      <td> 0</td>\n",
       "      <td> 0</td>\n",
       "      <td> 0</td>\n",
       "      <td> 0</td>\n",
       "      <td> 0</td>\n",
       "      <td> 0</td>\n",
       "      <td> 0</td>\n",
       "      <td> 0</td>\n",
       "      <td> 0</td>\n",
       "      <td> 0</td>\n",
       "    </tr>\n",
       "    <tr>\n",
       "      <th>1</th>\n",
       "      <td>-1.000000</td>\n",
       "      <td> -1.000000</td>\n",
       "      <td> C</td>\n",
       "      <td>-1.000000</td>\n",
       "      <td>-1.00000</td>\n",
       "      <td>-1.000000</td>\n",
       "      <td>-1.000000</td>\n",
       "      <td>-1.000000</td>\n",
       "      <td>-1.000000</td>\n",
       "      <td> 1.291029</td>\n",
       "      <td>...</td>\n",
       "      <td> 1</td>\n",
       "      <td> 1</td>\n",
       "      <td> 0</td>\n",
       "      <td> 1</td>\n",
       "      <td> 1</td>\n",
       "      <td> 1</td>\n",
       "      <td> 0</td>\n",
       "      <td> 1</td>\n",
       "      <td> 1</td>\n",
       "      <td> 0</td>\n",
       "    </tr>\n",
       "    <tr>\n",
       "      <th>2</th>\n",
       "      <td>-0.000000</td>\n",
       "      <td>  8.201529</td>\n",
       "      <td> C</td>\n",
       "      <td> 4.544371</td>\n",
       "      <td> 6.55010</td>\n",
       "      <td> 1.558442</td>\n",
       "      <td> 2.467532</td>\n",
       "      <td> 0.007164</td>\n",
       "      <td> 7.142858</td>\n",
       "      <td> 1.575492</td>\n",
       "      <td>...</td>\n",
       "      <td> 0</td>\n",
       "      <td> 0</td>\n",
       "      <td> 0</td>\n",
       "      <td> 0</td>\n",
       "      <td> 0</td>\n",
       "      <td> 0</td>\n",
       "      <td> 0</td>\n",
       "      <td> 0</td>\n",
       "      <td> 0</td>\n",
       "      <td> 0</td>\n",
       "    </tr>\n",
       "    <tr>\n",
       "      <th>3</th>\n",
       "      <td> 2.661870</td>\n",
       "      <td>  3.041241</td>\n",
       "      <td> C</td>\n",
       "      <td> 1.657216</td>\n",
       "      <td> 9.77308</td>\n",
       "      <td> 2.078337</td>\n",
       "      <td> 1.430855</td>\n",
       "      <td> 1.252157</td>\n",
       "      <td> 7.959596</td>\n",
       "      <td> 1.575493</td>\n",
       "      <td>...</td>\n",
       "      <td> 0</td>\n",
       "      <td> 0</td>\n",
       "      <td> 0</td>\n",
       "      <td> 0</td>\n",
       "      <td> 0</td>\n",
       "      <td> 0</td>\n",
       "      <td> 0</td>\n",
       "      <td> 0</td>\n",
       "      <td> 0</td>\n",
       "      <td> 0</td>\n",
       "    </tr>\n",
       "    <tr>\n",
       "      <th>4</th>\n",
       "      <td> 1.252822</td>\n",
       "      <td> 11.283352</td>\n",
       "      <td> C</td>\n",
       "      <td> 4.638388</td>\n",
       "      <td> 8.52051</td>\n",
       "      <td> 2.302484</td>\n",
       "      <td> 3.510159</td>\n",
       "      <td> 0.074263</td>\n",
       "      <td> 7.612904</td>\n",
       "      <td> 1.050328</td>\n",
       "      <td>...</td>\n",
       "      <td> 0</td>\n",
       "      <td> 0</td>\n",
       "      <td> 0</td>\n",
       "      <td> 0</td>\n",
       "      <td> 0</td>\n",
       "      <td> 0</td>\n",
       "      <td> 0</td>\n",
       "      <td> 0</td>\n",
       "      <td> 0</td>\n",
       "      <td> 0</td>\n",
       "    </tr>\n",
       "  </tbody>\n",
       "</table>\n",
       "<p>5 rows × 264 columns</p>\n",
       "</div>"
      ],
      "text/plain": [
       "         v1         v2 v3        v4       v5        v6        v7        v8  \\\n",
       "0  1.375465  11.361141  C  4.200778  6.57700  2.081784  1.784386  0.011094   \n",
       "1 -1.000000  -1.000000  C -1.000000 -1.00000 -1.000000 -1.000000 -1.000000   \n",
       "2 -0.000000   8.201529  C  4.544371  6.55010  1.558442  2.467532  0.007164   \n",
       "3  2.661870   3.041241  C  1.657216  9.77308  2.078337  1.430855  1.252157   \n",
       "4  1.252822  11.283352  C  4.638388  8.52051  2.302484  3.510159  0.074263   \n",
       "\n",
       "         v9       v10    ...     v123_na  v124_na  v125_na  v126_na  v127_na  \\\n",
       "0  9.523810  1.312911    ...           0        0        0        0        0   \n",
       "1 -1.000000  1.291029    ...           1        1        0        1        1   \n",
       "2  7.142858  1.575492    ...           0        0        0        0        0   \n",
       "3  7.959596  1.575493    ...           0        0        0        0        0   \n",
       "4  7.612904  1.050328    ...           0        0        0        0        0   \n",
       "\n",
       "   v128_na  v129_na  v130_na  v131_na  number_NAN_na  \n",
       "0        0        0        0        0              0  \n",
       "1        1        0        1        1              0  \n",
       "2        0        0        0        0              0  \n",
       "3        0        0        0        0              0  \n",
       "4        0        0        0        0              0  \n",
       "\n",
       "[5 rows x 264 columns]"
      ]
     },
     "execution_count": 17,
     "metadata": {},
     "output_type": "execute_result"
    }
   ],
   "source": [
    "test.head()"
   ]
  },
  {
   "cell_type": "code",
   "execution_count": 18,
   "metadata": {
    "collapsed": false
   },
   "outputs": [
    {
     "data": {
      "text/plain": [
       "0"
      ]
     },
     "execution_count": 18,
     "metadata": {},
     "output_type": "execute_result"
    }
   ],
   "source": [
    "sum(train.isnull().sum())"
   ]
  },
  {
   "cell_type": "code",
   "execution_count": 19,
   "metadata": {
    "collapsed": false
   },
   "outputs": [
    {
     "data": {
      "text/plain": [
       "0"
      ]
     },
     "execution_count": 19,
     "metadata": {},
     "output_type": "execute_result"
    }
   ],
   "source": [
    "sum(test.isnull().sum())"
   ]
  },
  {
   "cell_type": "code",
   "execution_count": 20,
   "metadata": {
    "collapsed": false
   },
   "outputs": [
    {
     "name": "stdout",
     "output_type": "stream",
     "text": [
      "v1\n",
      "v2\n",
      "v3\n",
      "v4\n",
      "v5\n",
      "v6\n",
      "v7\n",
      "v8\n",
      "v9\n",
      "v10\n",
      "v11\n",
      "v12\n",
      "v13\n",
      "v14\n",
      "v15\n",
      "v16\n",
      "v17\n",
      "v18\n",
      "v19\n",
      "v20\n",
      "v21\n",
      "v22\n",
      "v23\n",
      "v24\n",
      "v25\n",
      "v26\n",
      "v27\n",
      "v28\n",
      "v29\n",
      "v30\n",
      "v31\n",
      "v32\n",
      "v33\n",
      "v34\n",
      "v35\n",
      "v36\n",
      "v37\n",
      "v38\n",
      "v39\n",
      "v40\n",
      "v41\n",
      "v42\n",
      "v43\n",
      "v44\n",
      "v45\n",
      "v46\n",
      "v47\n",
      "v48\n",
      "v49\n",
      "v50\n",
      "v51\n",
      "v52\n",
      "v53\n",
      "v54\n",
      "v55\n",
      "v56\n",
      "v57\n",
      "v58\n",
      "v59\n",
      "v60\n",
      "v61\n",
      "v62\n",
      "v63\n",
      "v64\n",
      "v65\n",
      "v66\n",
      "v67\n",
      "v68\n",
      "v69\n",
      "v70\n",
      "v71\n",
      "v72\n",
      "v73\n",
      "v74\n",
      "v75\n",
      "v76\n",
      "v77\n",
      "v78\n",
      "v79\n",
      "v80\n",
      "v81\n",
      "v82\n",
      "v83\n",
      "v84\n",
      "v85\n",
      "v86\n",
      "v87\n",
      "v88\n",
      "v89\n",
      "v90\n",
      "v91\n",
      "v92\n",
      "v93\n",
      "v94\n",
      "v95\n",
      "v96\n",
      "v97\n",
      "v98\n",
      "v99\n",
      "v100\n",
      "v101\n",
      "v102\n",
      "v103\n",
      "v104\n",
      "v105\n",
      "v106\n",
      "v107\n",
      "v108\n",
      "v109\n",
      "v110\n",
      "v111\n",
      "v112\n",
      "v113\n",
      "v114\n",
      "v115\n",
      "v116\n",
      "v117\n",
      "v118\n",
      "v119\n",
      "v120\n",
      "v121\n",
      "v122\n",
      "v123\n",
      "v124\n",
      "v125\n",
      "v126\n",
      "v127\n",
      "v128\n",
      "v129\n",
      "v130\n",
      "v131\n"
     ]
    }
   ],
   "source": [
    "for elt in all_features:\n",
    "    vector = pd.concat([train[elt], test[elt]], axis = 0)\n",
    "    print str(elt)\n",
    "\n",
    "    if len(vector.unique()) <= max_categories:\n",
    "        train_dummies = pd.concat([train_dummies, pd.get_dummies(train[elt], prefix = elt, \\\n",
    "                                                                 dummy_na = True)], axis = 1).astype('int8')\n",
    "        test_dummies = pd.concat([test_dummies, pd.get_dummies(test[elt], prefix = elt, \\\n",
    "                                                               dummy_na = True)], axis = 1).astype('int8')\n",
    "        \n",
    "        agrg = pd.concat([train[elt], target], axis = 1)\n",
    "        agrg = agrg.groupby(by = elt, axis = 0).agg(['sum','count']).target\n",
    "        agrg['weight'] = agrg.apply(lambda x: .5 + .5 * x['sum']/x['count'] if\\\n",
    "                                    (x['sum'] > x['count'] - x['sum']) else .5 + .5 * \\\n",
    "                                    (x['sum'] - x['count'])/x['count'], axis = 1)\n",
    "        agrg.reset_index(inplace = True)\n",
    "        train[elt + '_weight'] = pd.merge(train, agrg, how = 'left', on = elt)['weight']\n",
    "        test[elt + '_weight'] = pd.merge(test, agrg, how = 'left', on = elt)['weight']\n",
    "        train[elt + '_weight'] = train[elt + '_weight'].fillna(prob)\n",
    "        test[elt + '_weight'] = test[elt + '_weight'].fillna(prob)\n",
    "        \n",
    "        del train[elt], test[elt]\n",
    "        # train[elt], tmp_indexer = pd.factorize(train[elt])\n",
    "        # test[elt] = tmp_indexer.get_indexer(test[elt])\n",
    "    else:\n",
    "        typ = str(train[elt].dtype)[:3]\n",
    "        if (typ == 'flo') or (typ == 'int'):\n",
    "            \n",
    "            train[elt] = np.log(2.0 + train[elt])\n",
    "            test[elt] = np.log(2.0 + test[elt])\n",
    "        else:\n",
    "            if (typ == 'obj'):\n",
    "                \n",
    "                # del train[elt], test[elt]\n",
    "                train[elt + '_binary'], tmp_indexer = pd.factorize(train[elt])\n",
    "                test[elt + '_binary'] = tmp_indexer.get_indexer(test[elt])\n",
    "                \n",
    "                list2keep = vector.value_counts()[ : max_categories].index\n",
    "                train[elt] = train[elt].apply(lambda x: x if x in list2keep else np.nan)\n",
    "                test[elt] = test[elt].apply(lambda x: x if x in list2keep else np.nan)                \n",
    "                train_dummies = pd.concat([train_dummies, pd.get_dummies(train[elt], prefix = elt, \\\n",
    "                                                                         dummy_na = True)], axis = 1).astype('int8')\n",
    "                test_dummies = pd.concat([test_dummies, pd.get_dummies(test[elt], prefix = elt, \\\n",
    "                                                                       dummy_na = True)], axis = 1).astype('int8')\n",
    "                \n",
    "                agrg = pd.concat([train[elt], target], axis = 1)\n",
    "                agrg = agrg.groupby(by = elt, axis = 0).agg(['sum','count']).target\n",
    "                agrg['weight'] = agrg.apply(lambda x: .5 + .5 * x['sum']/x['count'] if\\\n",
    "                                            (x['sum'] > x['count'] - x['sum']) else .5 + .5 * \\\n",
    "                                            (x['sum'] - x['count'])/x['count'], axis = 1)\n",
    "                agrg.reset_index(inplace = True)\n",
    "                train[elt + '_weight'] = pd.merge(train, agrg, how = 'left', on = elt)['weight']\n",
    "                test[elt + '_weight'] = pd.merge(test, agrg, how = 'left', on = elt)['weight']\n",
    "                train[elt + '_weight'] = train[elt + '_weight'].fillna(prob)\n",
    "                test[elt + '_weight'] = test[elt + '_weight'].fillna(prob)\n",
    "                \n",
    "                del train[elt], test[elt]\n",
    "                \n",
    "            else:\n",
    "                print('error', typ)\n",
    "                \n",
    "    if sum(test.isnull().sum()) > 0:\n",
    "        pdb.set_trace()\n",
    "    if sum(train.isnull().sum()) > 0:\n",
    "        pdb.set_trace()"
   ]
  },
  {
   "cell_type": "code",
   "execution_count": 21,
   "metadata": {
    "collapsed": false
   },
   "outputs": [
    {
     "data": {
      "text/plain": [
       "114321"
      ]
     },
     "execution_count": 21,
     "metadata": {},
     "output_type": "execute_result"
    }
   ],
   "source": [
    "len(train)"
   ]
  },
  {
   "cell_type": "code",
   "execution_count": 22,
   "metadata": {
    "collapsed": false
   },
   "outputs": [
    {
     "data": {
      "text/plain": [
       "0"
      ]
     },
     "execution_count": 22,
     "metadata": {},
     "output_type": "execute_result"
    }
   ],
   "source": [
    "sum(test_dummies.isnull().sum())"
   ]
  },
  {
   "cell_type": "code",
   "execution_count": 23,
   "metadata": {
    "collapsed": false
   },
   "outputs": [
    {
     "name": "stdout",
     "output_type": "stream",
     "text": [
      "delete v1_na\n",
      "delete v4_na\n",
      "delete v6_na\n",
      "delete v7_na\n",
      "delete v9_na\n",
      "delete v11_na\n",
      "delete v13_na\n",
      "delete v15_na\n",
      "delete v17_na\n",
      "delete v18_na\n",
      "delete v19_na\n",
      "delete v20_na\n",
      "delete v26_na\n",
      "delete v27_na\n",
      "delete v28_na\n",
      "delete v29_na\n",
      "delete v32_na\n",
      "delete v33_na\n",
      "delete v35_na\n",
      "delete v37_na\n",
      "delete v39_na\n",
      "delete v41_na\n",
      "delete v42_na\n",
      "delete v43_na\n",
      "delete v44_na\n",
      "delete v45_na\n",
      "delete v48_na\n",
      "delete v49_na\n",
      "delete v53_na\n",
      "delete v55_na\n",
      "delete v57_na\n",
      "delete v58_na\n",
      "delete v59_na\n",
      "delete v60_na\n",
      "delete v61_na\n",
      "delete v64_na\n",
      "delete v65_na\n",
      "delete v67_na\n",
      "delete v68_na\n",
      "delete v73_na\n",
      "delete v76_na\n",
      "delete v77_na\n",
      "delete v80_na\n",
      "delete v83_na\n",
      "delete v84_na\n",
      "delete v86_na\n",
      "delete v88_na\n",
      "delete v90_na\n",
      "delete v92_na\n",
      "delete v93_na\n",
      "delete v94_na\n",
      "delete v95_na\n",
      "delete v96_na\n",
      "delete v97_na\n",
      "delete v99_na\n",
      "delete v100_na\n",
      "delete v101_na\n",
      "delete v103_na\n",
      "delete v104_na\n",
      "delete v106_na\n",
      "delete v111_na\n",
      "delete v116_na\n",
      "delete v118_na\n",
      "delete v120_na\n",
      "delete v121_na\n",
      "delete v122_na\n",
      "delete v126_na\n",
      "delete v127_na\n",
      "delete v130_na\n"
     ]
    }
   ],
   "source": [
    "for elt in train.columns:\n",
    "    if (elt[-2:] == 'na') & (elt != 'v2_na'):\n",
    "        # print str(elt)\n",
    "        dist = metrics.pairwise_distances(train.v2_na.reshape(1, -1), train[elt].reshape(1, -1))\n",
    "        if dist < 8:\n",
    "            print \"delete \" + str(elt)\n",
    "            del train[elt],test[elt]"
   ]
  },
  {
   "cell_type": "code",
   "execution_count": 24,
   "metadata": {
    "collapsed": true
   },
   "outputs": [],
   "source": [
    "train = pd.concat([train, train_dummies, target], axis = 1)\n",
    "test = pd.concat([test, test_dummies], axis = 1)"
   ]
  },
  {
   "cell_type": "code",
   "execution_count": 25,
   "metadata": {
    "collapsed": false
   },
   "outputs": [
    {
     "data": {
      "text/plain": [
       "(114321, 787)"
      ]
     },
     "execution_count": 25,
     "metadata": {},
     "output_type": "execute_result"
    }
   ],
   "source": [
    "train.shape"
   ]
  },
  {
   "cell_type": "code",
   "execution_count": 26,
   "metadata": {
    "collapsed": true
   },
   "outputs": [],
   "source": [
    "for elt in list(set(train.columns) - set(test.columns)):\n",
    "    del train[elt]\n",
    "for elt in list(set(test.columns) - set(train.columns)):\n",
    "    del test[elt]"
   ]
  },
  {
   "cell_type": "code",
   "execution_count": 27,
   "metadata": {
    "collapsed": false
   },
   "outputs": [
    {
     "data": {
      "text/plain": [
       "(114321, 766)"
      ]
     },
     "execution_count": 27,
     "metadata": {},
     "output_type": "execute_result"
    }
   ],
   "source": [
    "train.shape"
   ]
  },
  {
   "cell_type": "code",
   "execution_count": 28,
   "metadata": {
    "collapsed": false
   },
   "outputs": [
    {
     "data": {
      "text/plain": [
       "(114393, 766)"
      ]
     },
     "execution_count": 28,
     "metadata": {},
     "output_type": "execute_result"
    }
   ],
   "source": [
    "test.shape"
   ]
  },
  {
   "cell_type": "code",
   "execution_count": 29,
   "metadata": {
    "collapsed": false
   },
   "outputs": [
    {
     "data": {
      "text/plain": [
       "0"
      ]
     },
     "execution_count": 29,
     "metadata": {},
     "output_type": "execute_result"
    }
   ],
   "source": [
    "sum(train.isnull().sum())"
   ]
  },
  {
   "cell_type": "code",
   "execution_count": 30,
   "metadata": {
    "collapsed": false
   },
   "outputs": [
    {
     "data": {
      "text/plain": [
       "0"
      ]
     },
     "execution_count": 30,
     "metadata": {},
     "output_type": "execute_result"
    }
   ],
   "source": [
    "sum(test.isnull().sum())"
   ]
  },
  {
   "cell_type": "code",
   "execution_count": 31,
   "metadata": {
    "collapsed": false
   },
   "outputs": [
    {
     "data": {
      "text/html": [
       "<div style=\"max-height:1000px;max-width:1500px;overflow:auto;\">\n",
       "<table border=\"1\" class=\"dataframe\">\n",
       "  <thead>\n",
       "    <tr style=\"text-align: right;\">\n",
       "      <th></th>\n",
       "      <th>v1</th>\n",
       "      <th>v2</th>\n",
       "      <th>v4</th>\n",
       "      <th>v5</th>\n",
       "      <th>v6</th>\n",
       "      <th>v7</th>\n",
       "      <th>v8</th>\n",
       "      <th>v9</th>\n",
       "      <th>v10</th>\n",
       "      <th>v11</th>\n",
       "      <th>...</th>\n",
       "      <th>v129_1.0</th>\n",
       "      <th>v129_2.0</th>\n",
       "      <th>v129_3.0</th>\n",
       "      <th>v129_4.0</th>\n",
       "      <th>v129_5.0</th>\n",
       "      <th>v129_6.0</th>\n",
       "      <th>v129_7.0</th>\n",
       "      <th>v129_8.0</th>\n",
       "      <th>v129_11.0</th>\n",
       "      <th>v129_nan</th>\n",
       "    </tr>\n",
       "  </thead>\n",
       "  <tbody>\n",
       "    <tr>\n",
       "      <th>0</th>\n",
       "      <td> 1.204694</td>\n",
       "      <td> 2.372808</td>\n",
       "      <td> 1.778510</td>\n",
       "      <td> 2.294076</td>\n",
       "      <td> 1.525899</td>\n",
       "      <td> 1.644205</td>\n",
       "      <td> 0.699597</td>\n",
       "      <td> 2.484907</td>\n",
       "      <td> 0.917602</td>\n",
       "      <td> 2.914203</td>\n",
       "      <td>...</td>\n",
       "      <td> 0</td>\n",
       "      <td> 0</td>\n",
       "      <td> 0</td>\n",
       "      <td> 0</td>\n",
       "      <td> 0</td>\n",
       "      <td> 0</td>\n",
       "      <td> 0</td>\n",
       "      <td> 0</td>\n",
       "      <td> 0</td>\n",
       "      <td> 0</td>\n",
       "    </tr>\n",
       "    <tr>\n",
       "      <th>1</th>\n",
       "      <td> 0.000000</td>\n",
       "      <td> 0.000000</td>\n",
       "      <td> 0.000000</td>\n",
       "      <td> 2.415134</td>\n",
       "      <td> 0.000000</td>\n",
       "      <td> 0.000000</td>\n",
       "      <td> 1.458994</td>\n",
       "      <td> 0.000000</td>\n",
       "      <td> 1.197827</td>\n",
       "      <td> 0.000000</td>\n",
       "      <td>...</td>\n",
       "      <td> 0</td>\n",
       "      <td> 0</td>\n",
       "      <td> 0</td>\n",
       "      <td> 0</td>\n",
       "      <td> 0</td>\n",
       "      <td> 0</td>\n",
       "      <td> 0</td>\n",
       "      <td> 0</td>\n",
       "      <td> 0</td>\n",
       "      <td> 0</td>\n",
       "    </tr>\n",
       "    <tr>\n",
       "      <th>2</th>\n",
       "      <td> 1.079727</td>\n",
       "      <td> 1.989254</td>\n",
       "      <td> 1.858010</td>\n",
       "      <td> 1.991451</td>\n",
       "      <td> 1.788352</td>\n",
       "      <td> 1.779783</td>\n",
       "      <td> 0.702922</td>\n",
       "      <td> 2.685577</td>\n",
       "      <td> 1.017353</td>\n",
       "      <td> 2.818762</td>\n",
       "      <td>...</td>\n",
       "      <td> 0</td>\n",
       "      <td> 1</td>\n",
       "      <td> 0</td>\n",
       "      <td> 0</td>\n",
       "      <td> 0</td>\n",
       "      <td> 0</td>\n",
       "      <td> 0</td>\n",
       "      <td> 0</td>\n",
       "      <td> 0</td>\n",
       "      <td> 0</td>\n",
       "    </tr>\n",
       "    <tr>\n",
       "      <th>3</th>\n",
       "      <td> 1.028696</td>\n",
       "      <td> 2.332606</td>\n",
       "      <td> 1.828723</td>\n",
       "      <td> 2.612085</td>\n",
       "      <td> 1.410426</td>\n",
       "      <td> 1.383177</td>\n",
       "      <td> 0.775624</td>\n",
       "      <td> 2.394755</td>\n",
       "      <td> 2.145074</td>\n",
       "      <td> 2.909492</td>\n",
       "      <td>...</td>\n",
       "      <td> 1</td>\n",
       "      <td> 0</td>\n",
       "      <td> 0</td>\n",
       "      <td> 0</td>\n",
       "      <td> 0</td>\n",
       "      <td> 0</td>\n",
       "      <td> 0</td>\n",
       "      <td> 0</td>\n",
       "      <td> 0</td>\n",
       "      <td> 0</td>\n",
       "    </tr>\n",
       "    <tr>\n",
       "      <th>4</th>\n",
       "      <td> 0.000000</td>\n",
       "      <td> 0.000000</td>\n",
       "      <td> 0.000000</td>\n",
       "      <td> 0.000000</td>\n",
       "      <td> 0.000000</td>\n",
       "      <td> 0.000000</td>\n",
       "      <td> 0.000000</td>\n",
       "      <td> 0.000000</td>\n",
       "      <td> 1.115249</td>\n",
       "      <td> 0.000000</td>\n",
       "      <td>...</td>\n",
       "      <td> 0</td>\n",
       "      <td> 0</td>\n",
       "      <td> 0</td>\n",
       "      <td> 0</td>\n",
       "      <td> 0</td>\n",
       "      <td> 0</td>\n",
       "      <td> 0</td>\n",
       "      <td> 0</td>\n",
       "      <td> 0</td>\n",
       "      <td> 0</td>\n",
       "    </tr>\n",
       "  </tbody>\n",
       "</table>\n",
       "<p>5 rows × 766 columns</p>\n",
       "</div>"
      ],
      "text/plain": [
       "         v1        v2        v4        v5        v6        v7        v8  \\\n",
       "0  1.204694  2.372808  1.778510  2.294076  1.525899  1.644205  0.699597   \n",
       "1  0.000000  0.000000  0.000000  2.415134  0.000000  0.000000  1.458994   \n",
       "2  1.079727  1.989254  1.858010  1.991451  1.788352  1.779783  0.702922   \n",
       "3  1.028696  2.332606  1.828723  2.612085  1.410426  1.383177  0.775624   \n",
       "4  0.000000  0.000000  0.000000  0.000000  0.000000  0.000000  0.000000   \n",
       "\n",
       "         v9       v10       v11    ...     v129_1.0  v129_2.0  v129_3.0  \\\n",
       "0  2.484907  0.917602  2.914203    ...            0         0         0   \n",
       "1  0.000000  1.197827  0.000000    ...            0         0         0   \n",
       "2  2.685577  1.017353  2.818762    ...            0         1         0   \n",
       "3  2.394755  2.145074  2.909492    ...            1         0         0   \n",
       "4  0.000000  1.115249  0.000000    ...            0         0         0   \n",
       "\n",
       "   v129_4.0  v129_5.0  v129_6.0  v129_7.0  v129_8.0  v129_11.0  v129_nan  \n",
       "0         0         0         0         0         0          0         0  \n",
       "1         0         0         0         0         0          0         0  \n",
       "2         0         0         0         0         0          0         0  \n",
       "3         0         0         0         0         0          0         0  \n",
       "4         0         0         0         0         0          0         0  \n",
       "\n",
       "[5 rows x 766 columns]"
      ]
     },
     "execution_count": 31,
     "metadata": {},
     "output_type": "execute_result"
    }
   ],
   "source": [
    "train.head()"
   ]
  },
  {
   "cell_type": "code",
   "execution_count": 32,
   "metadata": {
    "collapsed": false
   },
   "outputs": [
    {
     "data": {
      "text/html": [
       "<div style=\"max-height:1000px;max-width:1500px;overflow:auto;\">\n",
       "<table border=\"1\" class=\"dataframe\">\n",
       "  <thead>\n",
       "    <tr style=\"text-align: right;\">\n",
       "      <th></th>\n",
       "      <th>v1</th>\n",
       "      <th>v2</th>\n",
       "      <th>v4</th>\n",
       "      <th>v5</th>\n",
       "      <th>v6</th>\n",
       "      <th>v7</th>\n",
       "      <th>v8</th>\n",
       "      <th>v9</th>\n",
       "      <th>v10</th>\n",
       "      <th>v11</th>\n",
       "      <th>...</th>\n",
       "      <th>v129_1.0</th>\n",
       "      <th>v129_2.0</th>\n",
       "      <th>v129_3.0</th>\n",
       "      <th>v129_4.0</th>\n",
       "      <th>v129_5.0</th>\n",
       "      <th>v129_6.0</th>\n",
       "      <th>v129_7.0</th>\n",
       "      <th>v129_8.0</th>\n",
       "      <th>v129_11.0</th>\n",
       "      <th>v129_nan</th>\n",
       "    </tr>\n",
       "  </thead>\n",
       "  <tbody>\n",
       "    <tr>\n",
       "      <th>0</th>\n",
       "      <td> 1.216533</td>\n",
       "      <td> 2.592351</td>\n",
       "      <td> 1.824675</td>\n",
       "      <td> 2.149084</td>\n",
       "      <td> 1.406534</td>\n",
       "      <td> 1.330884</td>\n",
       "      <td> 0.698679</td>\n",
       "      <td> 2.444415</td>\n",
       "      <td> 1.197827</td>\n",
       "      <td> 2.936611</td>\n",
       "      <td>...</td>\n",
       "      <td> 0</td>\n",
       "      <td> 0</td>\n",
       "      <td> 0</td>\n",
       "      <td> 0</td>\n",
       "      <td> 0</td>\n",
       "      <td> 0</td>\n",
       "      <td> 0</td>\n",
       "      <td> 0</td>\n",
       "      <td> 0</td>\n",
       "      <td> 0</td>\n",
       "    </tr>\n",
       "    <tr>\n",
       "      <th>1</th>\n",
       "      <td> 0.000000</td>\n",
       "      <td> 0.000000</td>\n",
       "      <td> 0.000000</td>\n",
       "      <td> 0.000000</td>\n",
       "      <td> 0.000000</td>\n",
       "      <td> 0.000000</td>\n",
       "      <td> 0.000000</td>\n",
       "      <td> 0.000000</td>\n",
       "      <td> 1.191200</td>\n",
       "      <td> 0.000000</td>\n",
       "      <td>...</td>\n",
       "      <td> 0</td>\n",
       "      <td> 0</td>\n",
       "      <td> 0</td>\n",
       "      <td> 0</td>\n",
       "      <td> 0</td>\n",
       "      <td> 0</td>\n",
       "      <td> 0</td>\n",
       "      <td> 0</td>\n",
       "      <td> 0</td>\n",
       "      <td> 0</td>\n",
       "    </tr>\n",
       "    <tr>\n",
       "      <th>2</th>\n",
       "      <td> 0.693147</td>\n",
       "      <td> 2.322538</td>\n",
       "      <td> 1.878605</td>\n",
       "      <td> 2.145943</td>\n",
       "      <td> 1.269323</td>\n",
       "      <td> 1.496836</td>\n",
       "      <td> 0.696723</td>\n",
       "      <td> 2.212973</td>\n",
       "      <td> 1.274103</td>\n",
       "      <td> 2.841582</td>\n",
       "      <td>...</td>\n",
       "      <td> 0</td>\n",
       "      <td> 0</td>\n",
       "      <td> 0</td>\n",
       "      <td> 0</td>\n",
       "      <td> 0</td>\n",
       "      <td> 0</td>\n",
       "      <td> 0</td>\n",
       "      <td> 0</td>\n",
       "      <td> 0</td>\n",
       "      <td> 0</td>\n",
       "    </tr>\n",
       "    <tr>\n",
       "      <th>3</th>\n",
       "      <td> 1.539417</td>\n",
       "      <td> 1.617652</td>\n",
       "      <td> 1.296702</td>\n",
       "      <td> 2.465816</td>\n",
       "      <td> 1.405689</td>\n",
       "      <td> 1.232809</td>\n",
       "      <td> 1.179318</td>\n",
       "      <td> 2.298536</td>\n",
       "      <td> 1.274103</td>\n",
       "      <td> 2.798765</td>\n",
       "      <td>...</td>\n",
       "      <td> 0</td>\n",
       "      <td> 0</td>\n",
       "      <td> 0</td>\n",
       "      <td> 0</td>\n",
       "      <td> 0</td>\n",
       "      <td> 0</td>\n",
       "      <td> 0</td>\n",
       "      <td> 0</td>\n",
       "      <td> 0</td>\n",
       "      <td> 0</td>\n",
       "    </tr>\n",
       "    <tr>\n",
       "      <th>4</th>\n",
       "      <td> 1.179523</td>\n",
       "      <td> 2.586511</td>\n",
       "      <td> 1.892869</td>\n",
       "      <td> 2.353327</td>\n",
       "      <td> 1.459192</td>\n",
       "      <td> 1.706593</td>\n",
       "      <td> 0.729606</td>\n",
       "      <td> 2.263106</td>\n",
       "      <td> 1.115249</td>\n",
       "      <td> 2.867330</td>\n",
       "      <td>...</td>\n",
       "      <td> 0</td>\n",
       "      <td> 0</td>\n",
       "      <td> 0</td>\n",
       "      <td> 0</td>\n",
       "      <td> 0</td>\n",
       "      <td> 0</td>\n",
       "      <td> 0</td>\n",
       "      <td> 0</td>\n",
       "      <td> 0</td>\n",
       "      <td> 0</td>\n",
       "    </tr>\n",
       "  </tbody>\n",
       "</table>\n",
       "<p>5 rows × 766 columns</p>\n",
       "</div>"
      ],
      "text/plain": [
       "         v1        v2        v4        v5        v6        v7        v8  \\\n",
       "0  1.216533  2.592351  1.824675  2.149084  1.406534  1.330884  0.698679   \n",
       "1  0.000000  0.000000  0.000000  0.000000  0.000000  0.000000  0.000000   \n",
       "2  0.693147  2.322538  1.878605  2.145943  1.269323  1.496836  0.696723   \n",
       "3  1.539417  1.617652  1.296702  2.465816  1.405689  1.232809  1.179318   \n",
       "4  1.179523  2.586511  1.892869  2.353327  1.459192  1.706593  0.729606   \n",
       "\n",
       "         v9       v10       v11    ...     v129_1.0  v129_2.0  v129_3.0  \\\n",
       "0  2.444415  1.197827  2.936611    ...            0         0         0   \n",
       "1  0.000000  1.191200  0.000000    ...            0         0         0   \n",
       "2  2.212973  1.274103  2.841582    ...            0         0         0   \n",
       "3  2.298536  1.274103  2.798765    ...            0         0         0   \n",
       "4  2.263106  1.115249  2.867330    ...            0         0         0   \n",
       "\n",
       "   v129_4.0  v129_5.0  v129_6.0  v129_7.0  v129_8.0  v129_11.0  v129_nan  \n",
       "0         0         0         0         0         0          0         0  \n",
       "1         0         0         0         0         0          0         0  \n",
       "2         0         0         0         0         0          0         0  \n",
       "3         0         0         0         0         0          0         0  \n",
       "4         0         0         0         0         0          0         0  \n",
       "\n",
       "[5 rows x 766 columns]"
      ]
     },
     "execution_count": 32,
     "metadata": {},
     "output_type": "execute_result"
    }
   ],
   "source": [
    "test.head()"
   ]
  },
  {
   "cell_type": "code",
   "execution_count": 33,
   "metadata": {
    "collapsed": false
   },
   "outputs": [
    {
     "data": {
      "text/plain": [
       "Index([u'v122', u'v123', u'v124', u'v126', u'v127', u'v128', u'v130', u'v131', u'number_NAN', u'v2_na', u'v3_na', u'v5_na', u'v8_na', u'v10_na', u'v12_na', u'v14_na', u'v16_na', u'v21_na', u'v22_na', u'v23_na', u'v24_na', u'v25_na', u'v30_na', u'v31_na', u'v34_na', u'v36_na', u'v38_na', u'v40_na', u'v46_na', u'v47_na', u'v50_na', u'v51_na', u'v52_na', u'v54_na', u'v56_na', u'v62_na', u'v63_na', u'v66_na', u'v69_na', u'v70_na', u'v71_na', u'v72_na', u'v74_na', u'v75_na', u'v78_na', u'v79_na', u'v81_na', u'v82_na', u'v85_na', u'v87_na', u'v89_na', u'v91_na', u'v98_na', u'v102_na', u'v105_na', u'v107_na', u'v108_na', u'v109_na', u'v110_na', u'v112_na', u'v113_na', u'v114_na', u'v115_na', u'v117_na', u'v119_na', u'v123_na', u'v124_na', u'v125_na', u'v128_na', u'v129_na', u'v131_na', u'number_NAN_na', u'v3_weight', u'v22_binary', u'v22_weight', u'v24_weight', u'v30_weight', u'v31_weight', u'v38_weight', u'v47_weight', u'v52_weight', u'v56_weight', u'v62_weight', u'v66_weight', u'v71_weight', u'v72_weight', u'v74_weight', u'v75_weight', u'v79_weight', u'v91_weight', u'v107_weight', u'v110_weight', u'v112_weight', u'v113_weight', u'v125_weight', u'v129_weight', u'v3_-1', u'v3_A', u'v3_B', u'v3_C', ...], dtype='object')"
      ]
     },
     "execution_count": 33,
     "metadata": {},
     "output_type": "execute_result"
    }
   ],
   "source": [
    "train.columns[100:]"
   ]
  },
  {
   "cell_type": "code",
   "execution_count": 52,
   "metadata": {
    "collapsed": false
   },
   "outputs": [
    {
     "data": {
      "text/plain": [
       "[(array([ 22575,  22576,  22580, ..., 114318, 114319, 114320]),\n",
       "  array([    0,     1,     2, ..., 22961, 22962, 22964])),\n",
       " (array([     0,      1,      2, ..., 114318, 114319, 114320]),\n",
       "  array([22575, 22576, 22580, ..., 45728, 45729, 45731])),\n",
       " (array([     0,      1,      2, ..., 114318, 114319, 114320]),\n",
       "  array([45724, 45726, 45730, ..., 68871, 68875, 68882])),\n",
       " (array([     0,      1,      2, ..., 114318, 114319, 114320]),\n",
       "  array([68503, 68504, 68505, ..., 91556, 91559, 91560])),\n",
       " (array([    0,     1,     2, ..., 91556, 91559, 91560]),\n",
       "  array([ 91424,  91425,  91426, ..., 114318, 114319, 114320]))]"
      ]
     },
     "execution_count": 52,
     "metadata": {},
     "output_type": "execute_result"
    }
   ],
   "source": [
    "n_folds = 5\n",
    "skf = list(StratifiedKFold(target, n_folds))\n",
    "skf"
   ]
  },
  {
   "cell_type": "code",
   "execution_count": 53,
   "metadata": {
    "collapsed": false
   },
   "outputs": [
    {
     "data": {
      "text/plain": [
       "91456"
      ]
     },
     "execution_count": 53,
     "metadata": {},
     "output_type": "execute_result"
    }
   ],
   "source": [
    "len(skf[0][0])"
   ]
  },
  {
   "cell_type": "code",
   "execution_count": 54,
   "metadata": {
    "collapsed": false
   },
   "outputs": [
    {
     "data": {
      "text/plain": [
       "22865"
      ]
     },
     "execution_count": 54,
     "metadata": {},
     "output_type": "execute_result"
    }
   ],
   "source": [
    "len(skf[0][1])"
   ]
  },
  {
   "cell_type": "code",
   "execution_count": 55,
   "metadata": {
    "collapsed": false
   },
   "outputs": [
    {
     "data": {
      "text/plain": [
       "\"\\n    ensemble.RandomForestClassifier(bootstrap=False, class_weight='auto', criterion='entropy',\\n            max_depth = None, max_features='sqrt', max_leaf_nodes=None,\\n            min_samples_leaf=1, min_samples_split=2,\\n            min_weight_fraction_leaf=0.0, n_estimators = 3000, n_jobs=-1,\\n            oob_score=False, random_state=rnd, verbose=0,\\n            warm_start=False),\\n    ensemble.ExtraTreesClassifier(bootstrap=False, class_weight=None, criterion='entropy',\\n           max_depth = None, max_features='sqrt', max_leaf_nodes=None,\\n           min_samples_leaf=1, min_samples_split=2,\\n           min_weight_fraction_leaf=1e-5, n_estimators = 3000, n_jobs=-1,\\n           oob_score=False, random_state=rnd, verbose=0, warm_start=False)\\n    \""
      ]
     },
     "execution_count": 55,
     "metadata": {},
     "output_type": "execute_result"
    }
   ],
   "source": [
    "rnd = 57\n",
    "xgboost_params_1 = { \n",
    "        \"objective\": \"binary:logistic\",\n",
    "        \"booster\": \"gbtree\",\n",
    "        \"eval_metric\": \"logloss\",\n",
    "        \"eta\": 0.01, # 0.06, #0.01,\n",
    "        \"min_child_weight\": 1,\n",
    "        \"subsample\": 0.9,\n",
    "        \"colsample_bytree\": 0.4,\n",
    "        \"max_depth\": 12,\n",
    "        'silent': 0,\n",
    "        'gamma': 0.1,\n",
    "        'verbose_eval': True,\n",
    "        'seed': rnd\n",
    "    }\n",
    "\n",
    "xgboost_params_2 = { \n",
    "        \"objective\": \"binary:logistic\",\n",
    "        \"booster\": \"gbtree\",\n",
    "        \"eval_metric\": \"logloss\",\n",
    "        \"eta\": 0.01, # 0.06, #0.01,\n",
    "        \"min_child_weight\": 1,\n",
    "        \"subsample\": 0.8,\n",
    "        \"colsample_bytree\": 0.6,\n",
    "        \"max_depth\": 12,\n",
    "        'silent': 0,\n",
    "        'gamma': 0.1,\n",
    "        'verbose_eval': True,\n",
    "        'seed': rnd\n",
    "    }\n",
    "\n",
    "xgboost_params_3 = { \n",
    "        \"objective\": \"binary:logistic\",\n",
    "        \"booster\": \"gbtree\",\n",
    "        \"eval_metric\": \"logloss\",\n",
    "        \"eta\": 0.005, # 0.06, #0.01,\n",
    "        \"min_child_weight\": 1,\n",
    "        \"subsample\": 0.95,\n",
    "        \"colsample_bytree\": 0.35,\n",
    "        \"max_depth\": 12,\n",
    "        'silent': 0,\n",
    "        'gamma': 0.1,\n",
    "        'verbose_eval': True,\n",
    "        'seed': rnd\n",
    "    }\n",
    "\n",
    "xgboost_params_4 = { \n",
    "        \"objective\": \"binary:logistic\",\n",
    "        \"booster\": \"gbtree\",\n",
    "        \"eval_metric\": \"logloss\",\n",
    "        \"eta\": 0.005, # 0.06, #0.01,\n",
    "        \"min_child_weight\": 1,\n",
    "        \"subsample\": 0.9,\n",
    "        \"colsample_bytree\": 0.4,\n",
    "        \"max_depth\": 12,\n",
    "        'silent': 0,\n",
    "        'gamma': 0.2,\n",
    "        'verbose_eval': True,\n",
    "        'seed': rnd\n",
    "    }\n",
    "\n",
    "\n",
    "clfs=[\n",
    "    'xgboost-1',\n",
    "    'xgboost-2',\n",
    "    ensemble.RandomForestClassifier(bootstrap=False, class_weight='auto', criterion='entropy',\n",
    "            max_depth = None, max_features='sqrt', max_leaf_nodes=None,\n",
    "            min_samples_leaf = 1, min_samples_split = 2,\n",
    "            min_weight_fraction_leaf=0.0, n_estimators = 3000, n_jobs=-1,\n",
    "            oob_score=False, random_state=rnd, verbose=0,\n",
    "            warm_start=False),\n",
    "    ensemble.ExtraTreesClassifier(bootstrap=False, class_weight=None, criterion='entropy',\n",
    "           max_depth = None, max_features='sqrt', max_leaf_nodes=None,\n",
    "           min_samples_leaf=1, min_samples_split=2,\n",
    "           min_weight_fraction_leaf=1e-5, n_estimators = 3000, n_jobs=-1,\n",
    "           oob_score=False, random_state=rnd, verbose=0, warm_start=False)\n",
    "]\n",
    "\n",
    "\n",
    "\n",
    "# clfs = ['xgboost-1', 'xgboost-2', 'xgboost-3', 'xgboost-4']\n",
    "\n",
    "'''\n",
    "clfs = ['xgboost-1']\n",
    "\n",
    "'''\n",
    "\n",
    "\n",
    "'''\n",
    "\n",
    "clfs = [\n",
    "    ensemble.GradientBoostingClassifier(init = None, learning_rate = 0.1, loss = 'deviance',\n",
    "              max_depth = 15, max_features = None, max_leaf_nodes = None,\n",
    "              min_samples_leaf = 1, min_samples_split = 3,\n",
    "              min_weight_fraction_leaf = 0.0, n_estimators = 100,\n",
    "              random_state = rnd, subsample = 0.8, verbose = 0,\n",
    "              warm_start = False)\n",
    "]\n",
    "\n",
    "\n",
    "clfs=[\n",
    "    ensemble.ExtraTreesClassifier(bootstrap=False, class_weight=None, criterion='entropy',\n",
    "           max_depth = None, max_features='sqrt', max_leaf_nodes=None,\n",
    "           min_samples_leaf=1, min_samples_split=2,\n",
    "           min_weight_fraction_leaf=1e-5, n_estimators = 1000, n_jobs=-1,\n",
    "           oob_score=False, random_state=rnd, verbose=0, warm_start=False)\n",
    "]\n",
    "'''\n",
    "\n",
    "'''\n",
    "    ensemble.RandomForestClassifier(bootstrap=False, class_weight='auto', criterion='entropy',\n",
    "            max_depth = None, max_features='sqrt', max_leaf_nodes=None,\n",
    "            min_samples_leaf=1, min_samples_split=2,\n",
    "            min_weight_fraction_leaf=0.0, n_estimators = 3000, n_jobs=-1,\n",
    "            oob_score=False, random_state=rnd, verbose=0,\n",
    "            warm_start=False),\n",
    "    ensemble.ExtraTreesClassifier(bootstrap=False, class_weight=None, criterion='entropy',\n",
    "           max_depth = None, max_features='sqrt', max_leaf_nodes=None,\n",
    "           min_samples_leaf=1, min_samples_split=2,\n",
    "           min_weight_fraction_leaf=1e-5, n_estimators = 3000, n_jobs=-1,\n",
    "           oob_score=False, random_state=rnd, verbose=0, warm_start=False)\n",
    "    '''"
   ]
  },
  {
   "cell_type": "code",
   "execution_count": 56,
   "metadata": {
    "collapsed": false
   },
   "outputs": [
    {
     "data": {
      "text/plain": [
       "['xgboost-1',\n",
       " 'xgboost-2',\n",
       " RandomForestClassifier(bootstrap=False, class_weight='auto',\n",
       "             criterion='entropy', max_depth=None, max_features='sqrt',\n",
       "             max_leaf_nodes=None, min_samples_leaf=1, min_samples_split=2,\n",
       "             min_weight_fraction_leaf=0.0, n_estimators=3000, n_jobs=-1,\n",
       "             oob_score=False, random_state=57, verbose=0, warm_start=False),\n",
       " ExtraTreesClassifier(bootstrap=False, class_weight=None, criterion='entropy',\n",
       "            max_depth=None, max_features='sqrt', max_leaf_nodes=None,\n",
       "            min_samples_leaf=1, min_samples_split=2,\n",
       "            min_weight_fraction_leaf=1e-05, n_estimators=3000, n_jobs=-1,\n",
       "            oob_score=False, random_state=57, verbose=0, warm_start=False)]"
      ]
     },
     "execution_count": 56,
     "metadata": {},
     "output_type": "execute_result"
    }
   ],
   "source": [
    "clfs"
   ]
  },
  {
   "cell_type": "code",
   "execution_count": 57,
   "metadata": {
    "collapsed": true
   },
   "outputs": [],
   "source": [
    "final_submit = []"
   ]
  },
  {
   "cell_type": "code",
   "execution_count": 58,
   "metadata": {
    "collapsed": true
   },
   "outputs": [],
   "source": [
    "xgb_rounds = 1500"
   ]
  },
  {
   "cell_type": "code",
   "execution_count": 59,
   "metadata": {
    "collapsed": false
   },
   "outputs": [
    {
     "data": {
      "text/plain": [
       "<enumerate at 0x10b07e5f0>"
      ]
     },
     "execution_count": 59,
     "metadata": {},
     "output_type": "execute_result"
    }
   ],
   "source": [
    "enumerate(skf[0])"
   ]
  },
  {
   "cell_type": "code",
   "execution_count": 51,
   "metadata": {
    "collapsed": false
   },
   "outputs": [
    {
     "name": "stdout",
     "output_type": "stream",
     "text": [
      "0\n",
      "0"
     ]
    },
    {
     "name": "stderr",
     "output_type": "stream",
     "text": [
      "Will train until eval error hasn't decreased in 100 rounds.\n",
      "[0]\ttrain-logloss:0.688843\teval-logloss:0.689412\n"
     ]
    },
    {
     "name": "stdout",
     "output_type": "stream",
     "text": [
      "\n",
      "('model ', 0, ': loss=', 0.68942466498021882)\n",
      "Predict!\n",
      "1"
     ]
    },
    {
     "name": "stderr",
     "output_type": "stream",
     "text": [
      "Will train until eval error hasn't decreased in 100 rounds.\n",
      "[0]\ttrain-logloss:0.688760\teval-logloss:0.689357\n"
     ]
    },
    {
     "name": "stdout",
     "output_type": "stream",
     "text": [
      "\n",
      "('model ', 1, ': loss=', 0.68934992748129165)\n",
      "Predict!\n",
      "2\n",
      "('model ', 2, ': loss=', 10.796514365377549)\n",
      "Predict!\n",
      "3\n",
      "('model ', 3, ': loss=', 11.211536834741263)\n",
      "Predict!\n",
      "('step: ', 0.025)\n",
      "('weights: ', array([-0.025,  0.475,  0.3  ,  0.25 ]))\n",
      "('optimal blend loss: ', 0.58759292606523483)\n",
      "1\n",
      "0\n"
     ]
    },
    {
     "ename": "KeyboardInterrupt",
     "evalue": "",
     "output_type": "error",
     "traceback": [
      "\u001b[0;31m---------------------------------------------------------------------------\u001b[0m",
      "\u001b[0;31mKeyboardInterrupt\u001b[0m                         Traceback (most recent call last)",
      "\u001b[0;32m<ipython-input-51-dced5a96bee6>\u001b[0m in \u001b[0;36m<module>\u001b[0;34m()\u001b[0m\n\u001b[1;32m     16\u001b[0m         \u001b[0;32mif\u001b[0m \u001b[0mmodel\u001b[0m \u001b[0;34m==\u001b[0m \u001b[0;34m'xgboost-1'\u001b[0m\u001b[0;34m:\u001b[0m\u001b[0;34m\u001b[0m\u001b[0m\n\u001b[1;32m     17\u001b[0m             \u001b[0mdtrain\u001b[0m \u001b[0;34m=\u001b[0m \u001b[0mxgb\u001b[0m\u001b[0;34m.\u001b[0m\u001b[0mDMatrix\u001b[0m\u001b[0;34m(\u001b[0m\u001b[0mX\u001b[0m\u001b[0;34m,\u001b[0m \u001b[0mlabel\u001b[0m \u001b[0;34m=\u001b[0m \u001b[0mXtarget\u001b[0m\u001b[0;34m)\u001b[0m\u001b[0;34m\u001b[0m\u001b[0m\n\u001b[0;32m---> 18\u001b[0;31m             \u001b[0mdcv\u001b[0m \u001b[0;34m=\u001b[0m \u001b[0mxgb\u001b[0m\u001b[0;34m.\u001b[0m\u001b[0mDMatrix\u001b[0m\u001b[0;34m(\u001b[0m\u001b[0mY\u001b[0m\u001b[0;34m,\u001b[0m \u001b[0mlabel\u001b[0m \u001b[0;34m=\u001b[0m \u001b[0mYtarget\u001b[0m\u001b[0;34m)\u001b[0m\u001b[0;34m\u001b[0m\u001b[0m\n\u001b[0m\u001b[1;32m     19\u001b[0m             \u001b[0mwatchlist\u001b[0m \u001b[0;34m=\u001b[0m \u001b[0;34m[\u001b[0m\u001b[0;34m(\u001b[0m\u001b[0mdtrain\u001b[0m\u001b[0;34m,\u001b[0m\u001b[0;34m'train'\u001b[0m\u001b[0;34m)\u001b[0m\u001b[0;34m,\u001b[0m \u001b[0;34m(\u001b[0m\u001b[0mdcv\u001b[0m\u001b[0;34m,\u001b[0m\u001b[0;34m'eval'\u001b[0m\u001b[0;34m)\u001b[0m\u001b[0;34m]\u001b[0m\u001b[0;34m\u001b[0m\u001b[0m\n\u001b[1;32m     20\u001b[0m             \u001b[0mclf_1\u001b[0m \u001b[0;34m=\u001b[0m \u001b[0mxgb\u001b[0m\u001b[0;34m.\u001b[0m\u001b[0mtrain\u001b[0m\u001b[0;34m(\u001b[0m\u001b[0mxgboost_params_1\u001b[0m\u001b[0;34m,\u001b[0m \u001b[0mdtrain\u001b[0m\u001b[0;34m,\u001b[0m \u001b[0mnum_boost_round\u001b[0m \u001b[0;34m=\u001b[0m \u001b[0mxgb_rounds\u001b[0m\u001b[0;34m,\u001b[0m \u001b[0mevals\u001b[0m \u001b[0;34m=\u001b[0m \u001b[0mwatchlist\u001b[0m\u001b[0;34m,\u001b[0m \u001b[0mearly_stopping_rounds\u001b[0m \u001b[0;34m=\u001b[0m \u001b[0;36m100\u001b[0m\u001b[0;34m)\u001b[0m\u001b[0;34m\u001b[0m\u001b[0m\n",
      "\u001b[0;32m/Users/xiaoyiliu/anaconda/lib/python2.7/site-packages/xgboost/core.pyc\u001b[0m in \u001b[0;36m__init__\u001b[0;34m(self, data, label, missing, weight, silent, feature_names, feature_types)\u001b[0m\n\u001b[1;32m    238\u001b[0m                 \u001b[0;32mraise\u001b[0m \u001b[0mTypeError\u001b[0m\u001b[0;34m(\u001b[0m\u001b[0;34m'can not initialize DMatrix from {}'\u001b[0m\u001b[0;34m.\u001b[0m\u001b[0mformat\u001b[0m\u001b[0;34m(\u001b[0m\u001b[0mtype\u001b[0m\u001b[0;34m(\u001b[0m\u001b[0mdata\u001b[0m\u001b[0;34m)\u001b[0m\u001b[0;34m.\u001b[0m\u001b[0m__name__\u001b[0m\u001b[0;34m)\u001b[0m\u001b[0;34m)\u001b[0m\u001b[0;34m\u001b[0m\u001b[0m\n\u001b[1;32m    239\u001b[0m         \u001b[0;32mif\u001b[0m \u001b[0mlabel\u001b[0m \u001b[0;32mis\u001b[0m \u001b[0;32mnot\u001b[0m \u001b[0mNone\u001b[0m\u001b[0;34m:\u001b[0m\u001b[0;34m\u001b[0m\u001b[0m\n\u001b[0;32m--> 240\u001b[0;31m             \u001b[0mself\u001b[0m\u001b[0;34m.\u001b[0m\u001b[0mset_label\u001b[0m\u001b[0;34m(\u001b[0m\u001b[0mlabel\u001b[0m\u001b[0;34m)\u001b[0m\u001b[0;34m\u001b[0m\u001b[0m\n\u001b[0m\u001b[1;32m    241\u001b[0m         \u001b[0;32mif\u001b[0m \u001b[0mweight\u001b[0m \u001b[0;32mis\u001b[0m \u001b[0;32mnot\u001b[0m \u001b[0mNone\u001b[0m\u001b[0;34m:\u001b[0m\u001b[0;34m\u001b[0m\u001b[0m\n\u001b[1;32m    242\u001b[0m             \u001b[0mself\u001b[0m\u001b[0;34m.\u001b[0m\u001b[0mset_weight\u001b[0m\u001b[0;34m(\u001b[0m\u001b[0mweight\u001b[0m\u001b[0;34m)\u001b[0m\u001b[0;34m\u001b[0m\u001b[0m\n",
      "\u001b[0;32m/Users/xiaoyiliu/anaconda/lib/python2.7/site-packages/xgboost/core.pyc\u001b[0m in \u001b[0;36mset_label\u001b[0;34m(self, label)\u001b[0m\n\u001b[1;32m    383\u001b[0m             \u001b[0mThe\u001b[0m \u001b[0mlabel\u001b[0m \u001b[0minformation\u001b[0m \u001b[0mto\u001b[0m \u001b[0mbe\u001b[0m \u001b[0mset\u001b[0m \u001b[0minto\u001b[0m \u001b[0mDMatrix\u001b[0m\u001b[0;34m\u001b[0m\u001b[0m\n\u001b[1;32m    384\u001b[0m         \"\"\"\n\u001b[0;32m--> 385\u001b[0;31m         \u001b[0mself\u001b[0m\u001b[0;34m.\u001b[0m\u001b[0mset_float_info\u001b[0m\u001b[0;34m(\u001b[0m\u001b[0;34m'label'\u001b[0m\u001b[0;34m,\u001b[0m \u001b[0mlabel\u001b[0m\u001b[0;34m)\u001b[0m\u001b[0;34m\u001b[0m\u001b[0m\n\u001b[0m\u001b[1;32m    386\u001b[0m \u001b[0;34m\u001b[0m\u001b[0m\n\u001b[1;32m    387\u001b[0m     \u001b[0;32mdef\u001b[0m \u001b[0mset_weight\u001b[0m\u001b[0;34m(\u001b[0m\u001b[0mself\u001b[0m\u001b[0;34m,\u001b[0m \u001b[0mweight\u001b[0m\u001b[0;34m)\u001b[0m\u001b[0;34m:\u001b[0m\u001b[0;34m\u001b[0m\u001b[0m\n",
      "\u001b[0;32m/Users/xiaoyiliu/anaconda/lib/python2.7/site-packages/xgboost/core.pyc\u001b[0m in \u001b[0;36mset_float_info\u001b[0;34m(self, field, data)\u001b[0m\n\u001b[1;32m    342\u001b[0m         _check_call(_LIB.XGDMatrixSetFloatInfo(self.handle,\n\u001b[1;32m    343\u001b[0m                                                \u001b[0mc_str\u001b[0m\u001b[0;34m(\u001b[0m\u001b[0mfield\u001b[0m\u001b[0;34m)\u001b[0m\u001b[0;34m,\u001b[0m\u001b[0;34m\u001b[0m\u001b[0m\n\u001b[0;32m--> 344\u001b[0;31m                                                \u001b[0mc_array\u001b[0m\u001b[0;34m(\u001b[0m\u001b[0mctypes\u001b[0m\u001b[0;34m.\u001b[0m\u001b[0mc_float\u001b[0m\u001b[0;34m,\u001b[0m \u001b[0mdata\u001b[0m\u001b[0;34m)\u001b[0m\u001b[0;34m,\u001b[0m\u001b[0;34m\u001b[0m\u001b[0m\n\u001b[0m\u001b[1;32m    345\u001b[0m                                                len(data)))\n\u001b[1;32m    346\u001b[0m \u001b[0;34m\u001b[0m\u001b[0m\n",
      "\u001b[0;32m/Users/xiaoyiliu/anaconda/lib/python2.7/site-packages/xgboost/core.pyc\u001b[0m in \u001b[0;36mc_array\u001b[0;34m(ctype, values)\u001b[0m\n\u001b[1;32m    127\u001b[0m \u001b[0;32mdef\u001b[0m \u001b[0mc_array\u001b[0m\u001b[0;34m(\u001b[0m\u001b[0mctype\u001b[0m\u001b[0;34m,\u001b[0m \u001b[0mvalues\u001b[0m\u001b[0;34m)\u001b[0m\u001b[0;34m:\u001b[0m\u001b[0;34m\u001b[0m\u001b[0m\n\u001b[1;32m    128\u001b[0m     \u001b[0;34m\"\"\"Convert a python string to c array.\"\"\"\u001b[0m\u001b[0;34m\u001b[0m\u001b[0m\n\u001b[0;32m--> 129\u001b[0;31m     \u001b[0;32mreturn\u001b[0m \u001b[0;34m(\u001b[0m\u001b[0mctype\u001b[0m \u001b[0;34m*\u001b[0m \u001b[0mlen\u001b[0m\u001b[0;34m(\u001b[0m\u001b[0mvalues\u001b[0m\u001b[0;34m)\u001b[0m\u001b[0;34m)\u001b[0m\u001b[0;34m(\u001b[0m\u001b[0;34m*\u001b[0m\u001b[0mvalues\u001b[0m\u001b[0;34m)\u001b[0m\u001b[0;34m\u001b[0m\u001b[0m\n\u001b[0m\u001b[1;32m    130\u001b[0m \u001b[0;34m\u001b[0m\u001b[0m\n\u001b[1;32m    131\u001b[0m \u001b[0;34m\u001b[0m\u001b[0m\n",
      "\u001b[0;31mKeyboardInterrupt\u001b[0m: "
     ]
    }
   ],
   "source": [
    "for i, (train_idx, test_idx) in enumerate(skf):\n",
    "    print i\n",
    "    X = train.iloc[train_idx]\n",
    "    Y = train.iloc[test_idx]\n",
    "    Xtarget = target.iloc[train_idx]\n",
    "    Ytarget = target.iloc[test_idx]\n",
    "    \n",
    "    indice = 0\n",
    "    #run models\n",
    "    \n",
    "    preds = []\n",
    "    predstest = []\n",
    "    \n",
    "    for model in clfs:\n",
    "        print indice\n",
    "        if model == 'xgboost-1':\n",
    "            dtrain = xgb.DMatrix(X, label = Xtarget)\n",
    "            dcv = xgb.DMatrix(Y, label = Ytarget)\n",
    "            watchlist = [(dtrain,'train'), (dcv,'eval')]\n",
    "            clf_1 = xgb.train(xgboost_params_1, dtrain, num_boost_round = xgb_rounds, evals = watchlist, early_stopping_rounds = 100)\n",
    "            # clf_1 = xgb.train(xgboost_params_1, dtrain, xgb_rounds)\n",
    "            preds.append(clf_1.predict(dcv, ntree_limit = clf_1.best_iteration))\n",
    "        elif model == 'xgboost-2':\n",
    "            dtrain = xgb.DMatrix(X, label = Xtarget)\n",
    "            dcv = xgb.DMatrix(Y, label = Ytarget)\n",
    "            watchlist = [(dtrain,'train'), (dcv,'eval')]\n",
    "            # clf_2 = xgb.train(xgboost_params_2, dtrain, xgb_rounds)\n",
    "            clf_2 = xgb.train(xgboost_params_2, dtrain, num_boost_round = xgb_rounds, evals = watchlist, early_stopping_rounds = 100)\n",
    "            preds.append(clf_2.predict(dcv, ntree_limit = clf_2.best_iteration))\n",
    "        elif model == 'xgboost-3':\n",
    "            dtrain = xgb.DMatrix(X, label = Xtarget)\n",
    "            dcv = xgb.DMatrix(Y, label = Ytarget)\n",
    "            watchlist = [(dtrain,'train'), (dcv,'eval')]\n",
    "            clf_3 = xgb.train(xgboost_params_3, dtrain, num_boost_round = xgb_rounds, evals = watchlist, early_stopping_rounds = 100)\n",
    "            preds.append(clf_3.predict(dcv, ntree_limit = clf_3.best_iteration))\n",
    "        elif model == 'xgboost-4':\n",
    "            dtrain = xgb.DMatrix(X, label = Xtarget)\n",
    "            dcv = xgb.DMatrix(Y, label = Ytarget)\n",
    "            watchlist = [(dtrain,'train'), (dcv,'eval')]\n",
    "            clf_4 = xgb.train(xgboost_params_4, dtrain, num_boost_round = xgb_rounds, evals = watchlist, early_stopping_rounds = 100)\n",
    "            preds.append(clf_4.predict(dcv, ntree_limit = clf_4.best_iteration))\n",
    "        else:\n",
    "            # pdb.set_trace()\n",
    "            model.fit(X, Xtarget)\n",
    "            preds.append(model.predict_proba(Y)[:,1])\n",
    "            \n",
    "        print('model ',indice,': loss=',metrics.log_loss(Ytarget, preds[indice]))\n",
    "        \n",
    "        print('Predict!')\n",
    "        if model == 'xgboost-1':\n",
    "            dtest = xgb.DMatrix(test)\n",
    "            dtrain_full = xgb.DMatrix(train, label = target)\n",
    "            best_round = clf_1.best_iteration\n",
    "            clf_1 = xgb.train(xgboost_params_1, dtrain_full, num_boost_round = best_round)\n",
    "            predstest.append(clf_1.predict(dtest, ntree_limit = clf_1.best_iteration))\n",
    "        elif model == 'xgboost-2':\n",
    "            dtest = xgb.DMatrix(test)\n",
    "            dtrain_full = xgb.DMatrix(train, label = target)\n",
    "            best_round = clf_2.best_iteration\n",
    "            clf_2 = xgb.train(xgboost_params_2, dtrain_full, num_boost_round = best_round)\n",
    "            predstest.append(clf_2.predict(dtest, ntree_limit = clf_2.best_iteration))\n",
    "        elif model == 'xgboost-3':\n",
    "            dtest = xgb.DMatrix(test)\n",
    "            predstest.append(clf_3.predict(dtest, ntree_limit = clf_3.best_iteration))\n",
    "        elif model == 'xgboost-4':\n",
    "            dtest = xgb.DMatrix(test)\n",
    "            predstest.append(clf_4.predict(dtest, ntree_limit = clf_4.best_iteration))\n",
    "        else:\n",
    "            model.fit(train, target)\n",
    "            predstest.append(model.predict_proba(test)[:,1])\n",
    "        \n",
    "        indice += 1\n",
    "        \n",
    "    # find best weights\n",
    "    step = 0.1 * (1./len(preds))\n",
    "    print(\"step: \", step)\n",
    "    poidsref = np.zeros(len(preds))\n",
    "    poids = np.zeros(len(preds))\n",
    "    poidsreftemp = np.zeros(len(preds))\n",
    "    poidsref = poidsref + 1./len(preds)\n",
    "        \n",
    "    bestpoids = poidsref.copy()\n",
    "    blend_cv = np.zeros(len(preds[0]))\n",
    "        \n",
    "    for k in range(0, len(preds), 1):\n",
    "        blend_cv = blend_cv + bestpoids[k] * preds[k]\n",
    "        bestscore = metrics.log_loss(Ytarget.values, blend_cv)\n",
    "            \n",
    "    getting_better_score = True\n",
    "    while getting_better_score:\n",
    "        getting_better_score = False\n",
    "        for i in range(0, len(preds), 1):\n",
    "            poids = poidsref\n",
    "            if poids[i] - step>-step:\n",
    "                # decrease weight in position i\n",
    "                poids[i] -= step\n",
    "                for j in range(0, len(preds), 1):\n",
    "                    if j != i:\n",
    "                        if poids[j] + step <= 1:\n",
    "                            # try an increase in position j\n",
    "                            poids[j] += step\n",
    "                            # score new weights\n",
    "                            blend_cv = np.zeros(len(preds[0]))\n",
    "                            for k in range(0, len(preds), 1):\n",
    "                                blend_cv = blend_cv + poids[k] * preds[k]\n",
    "                            actualscore = metrics.log_loss(Ytarget.values, blend_cv)\n",
    "                            # if better, keep it\n",
    "                            if actualscore < bestscore:\n",
    "                                bestscore = actualscore\n",
    "                                bestpoids = poids.copy()\n",
    "                                getting_better_score = True\n",
    "                            poids[j] -= step\n",
    "                poids[i] += step\n",
    "        poidsref = bestpoids.copy()\n",
    "            \n",
    "    print(\"weights: \", bestpoids)\n",
    "    print(\"optimal blend loss: \", bestscore)\n",
    "    \n",
    "    blend_to_submit = np.zeros(len(predstest[0]))\n",
    "    for i in range(0, len(preds), 1):\n",
    "        blend_to_submit = blend_to_submit + bestpoids[i] * predstest[i]\n",
    "        \n",
    "    final_submit.append(blend_to_submit)"
   ]
  },
  {
   "cell_type": "code",
   "execution_count": null,
   "metadata": {
    "collapsed": false
   },
   "outputs": [],
   "source": [
    "submit = np.mean(final_submit, axis = 0)"
   ]
  },
  {
   "cell_type": "code",
   "execution_count": null,
   "metadata": {
    "collapsed": false
   },
   "outputs": [],
   "source": [
    "submit"
   ]
  },
  {
   "cell_type": "code",
   "execution_count": null,
   "metadata": {
    "collapsed": true
   },
   "outputs": [],
   "source": [
    "# submit\n",
    "submission = pd.read_csv('sample_submission.csv')\n",
    "submission.PredictedProb = submit\n",
    "submission.to_csv('blend.csv', index = False)"
   ]
  },
  {
   "cell_type": "raw",
   "metadata": {},
   "source": [
    "('model ', 0, ': loss=', 0.45807333631960728)\n",
    "('model ', 1, ': loss=', 0.45738420810920294)\n",
    "2\n",
    "('model ', 2, ': loss=', 0.46115888303822938)\n",
    "3\n",
    "('model ', 3, ': loss=', 0.46498613044159121)\n",
    "('step: ', 0.025)\n",
    "('weights: ', array([ 0.175,  0.45 ,  0.05 ,  0.325]))\n",
    "('optimal blend loss: ', 0.45266126735562168)\n",
    "\n",
    "('model ', 0, ': loss=', 0.45966951363016784)\n",
    "('model ', 1, ': loss=', 0.45912098790454337)\n",
    "2\n",
    "('model ', 2, ': loss=', 0.461942080022192)\n",
    "3\n",
    "('model ', 3, ': loss=', 0.46559816307938889)\n",
    "('step: ', 0.025)\n",
    "('weights: ', array([ 0.2 ,  0.4 ,  0.05,  0.35]))\n",
    "('optimal blend loss: ', 0.4539998147310404)\n",
    "\n",
    "('model ', 0, ': loss=', 0.45537199386772054)\n",
    "('model ', 1, ': loss=', 0.45515158559120583)\n",
    "2\n",
    "('model ', 2, ': loss=', 0.45800846329910971)\n",
    "3\n",
    "('model ', 3, ': loss=', 0.46348930937496224)\n",
    "('step: ', 0.025)\n",
    "('weights: ', array([ 0.325,  0.3  ,  0.1  ,  0.275]))\n",
    "('optimal blend loss: ', 0.45065059665837853)\n",
    "\n",
    "('model ', 0, ': loss=', 0.45695240536879483)\n",
    "('model ', 1, ': loss=', 0.45618553407359258)\n",
    "2\n",
    "('model ', 2, ': loss=', 0.46077977610966792)\n",
    "3\n",
    "('model ', 3, ': loss=', 0.46363260708359821)\n",
    "('step: ', 0.025)\n",
    "('weights: ', array([ 0.375,  0.275, -0.025,  0.375]))\n",
    "('optimal blend loss: ', 0.45091668856370953)\n",
    "\n",
    "('model ', 0, ': loss=', 0.45705147775043548)\n",
    "('model ', 1, ': loss=', 0.45681671811250585)\n",
    "2\n",
    "('model ', 2, ': loss=', 0.45968281846410747)\n",
    "3\n",
    "('model ', 3, ': loss=', 0.46388611307964395)\n",
    "('step: ', 0.025)\n",
    "('weights: ', array([ 0.15,  0.45,  0.1 ,  0.3 ]))\n",
    "('optimal blend loss: ', 0.45193566006337776)"
   ]
  }
 ],
 "metadata": {
  "kernelspec": {
   "display_name": "Python 2",
   "language": "python",
   "name": "python2"
  },
  "language_info": {
   "codemirror_mode": {
    "name": "ipython",
    "version": 2
   },
   "file_extension": ".py",
   "mimetype": "text/x-python",
   "name": "python",
   "nbconvert_exporter": "python",
   "pygments_lexer": "ipython2",
   "version": "2.7.10"
  }
 },
 "nbformat": 4,
 "nbformat_minor": 0
}
